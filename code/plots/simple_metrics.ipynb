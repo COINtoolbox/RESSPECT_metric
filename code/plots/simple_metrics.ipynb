{
 "cells": [
  {
   "cell_type": "code",
   "execution_count": null,
   "metadata": {},
   "outputs": [],
   "source": [
    "import pandas as pd\n",
    "import numpy as np\n",
    "import matplotlib.pylab as plt\n",
    "import matplotlib.cm as cmx\n",
    "import matplotlib.colors as colors"
   ]
  },
  {
   "cell_type": "code",
   "execution_count": null,
   "metadata": {
    "tags": []
   },
   "outputs": [],
   "source": [
    "# Color map\n",
    "rainbow = cm = plt.get_cmap('plasma_r')\n",
    "cNorm  = colors.LogNorm(vmin=1, vmax=30) #colors.Normalize(vmin=0, vmax=50)\n",
    "scalarMap = cmx.ScalarMappable(norm=cNorm, cmap=rainbow)\n",
    "color_map = scalarMap.to_rgba(np.arange(1, 30))"
   ]
  },
  {
   "cell_type": "code",
   "execution_count": null,
   "metadata": {},
   "outputs": [],
   "source": [
    "nsamp = 3000\n",
    "field = 'DDF'\n",
    "\n",
    "total_num = {}\n",
    "total_num['DDF'] = {}\n",
    "total_num['DDF']['all'] = 10228\n",
    "total_num['DDF']['Ia'] = 8613\n",
    "total_num['DDF']['others'] = total_num['DDF']['all'] - total_num['DDF']['Ia']\n",
    "total_num['WFD'] = {}\n",
    "total_num['WFD']['all'] = 1094829\n",
    "total_num['WFD']['Ia'] = 999789\n",
    "total_num['WFD']['others'] = total_num['WFD']['all'] - total_num['WFD']['Ia']"
   ]
  },
  {
   "cell_type": "code",
   "execution_count": null,
   "metadata": {},
   "outputs": [],
   "source": [
    "max_cont = total_num[field]['others']/nsamp\n",
    "\n",
    "print('Maximum possible contamination: ', max_cont)"
   ]
  },
  {
   "cell_type": "code",
   "execution_count": null,
   "metadata": {},
   "outputs": [],
   "source": [
    "cont_axis = np.arange(0.0, 1, 0.01)\n",
    "\n",
    "metrics = []\n",
    "\n",
    "for c in cont_axis:\n",
    "\n",
    "    ccIa = int(nsamp * (1 - c))\n",
    "    wcIa = total_num[field]['Ia'] - ccIa\n",
    "\n",
    "    wcOther = int(nsamp * c)\n",
    "    ccOther = total_num[field]['others'] - wcOther\n",
    "    \n",
    "    if wcOther <= nsamp and ccOther >= 0:\n",
    "\n",
    "        eff = ccIa/total_num[field]['Ia']\n",
    "        acc = (ccIa + ccOther)/total_num[field]['all']\n",
    "        pur = ccIa/(ccIa + wcOther)\n",
    "        fom = eff + ccIa/(ccIa + 3*wcOther)\n",
    "\n",
    "        line = [acc, eff, pur, fom, ccIa, wcIa, ccOther, wcOther, c]\n",
    "        metrics.append(line)\n",
    "\n",
    "metrics_res = pd.DataFrame(metrics, columns=['acc', 'eff', 'pur', 'fom', 'ccIa', 'wcIa', 'ccOther', 'wcOther', 'cont'])"
   ]
  },
  {
   "cell_type": "code",
   "execution_count": null,
   "metadata": {},
   "outputs": [],
   "source": [
    "plt.figure(figsize=(8, 5))\n",
    "\n",
    "for i in range(4):\n",
    "    name = list(metrics_res.keys())[i]\n",
    "    plt.subplot(2,2, i + 1)\n",
    "    plt.plot(metrics_res['cont'], metrics_res[name])\n",
    "    plt.xlabel('c')\n",
    "    plt.ylabel(name)\n",
    "    \n",
    "plt.tight_layout()\n",
    "plt.show()"
   ]
  },
  {
   "cell_type": "code",
   "execution_count": null,
   "metadata": {},
   "outputs": [],
   "source": [
    "metrics_res = metrics_res[metrics_res['cont'].values <=0.25]"
   ]
  },
  {
   "cell_type": "code",
   "execution_count": null,
   "metadata": {},
   "outputs": [],
   "source": [
    "step = 1\n",
    "lw = 3                       #  arrow width\n",
    "fs=18                        # font size axis labels\n",
    "ls = 14                      # font axis ticks\n",
    "lcolor = 'grey'              # color of the line\n",
    "aw = 8                       # size of the arrow\n",
    "\n",
    "cont = [0.0, 0.01, 0.04, 0.09, 0.24]     # contamination levels\n",
    "pos_list = np.arange(metrics_res.shape[0])[np.array([item in cont for item in metrics_res['cont'].values])]\n",
    "\n",
    "plt.figure(figsize=(10, 8))\n",
    "\n",
    "ax1 = plt.subplot(3,3, 1)\n",
    "plt.plot(metrics_res['pur'], metrics_res['acc'], color=lcolor, lw=lw)\n",
    "for i in range(len(pos_list)):\n",
    "    ax1.annotate(\"\", xy=(metrics_res.iloc[pos_list[i] + step]['pur'], metrics_res.iloc[pos_list[i] + step]['acc']), \n",
    "                 xytext=(metrics_res.iloc[pos_list[i]]['pur'], metrics_res.iloc[pos_list[i]]['acc']),\n",
    "                 arrowprops={#'arrowstyle': \"->\", \n",
    "                     'color':color_map[int(100*cont[i])+1], 'lw':lw,\n",
    "                            'headlength': aw, 'headwidth':aw,  'width':aw})\n",
    "plt.xticks([])\n",
    "plt.yticks(fontsize=ls)\n",
    "plt.ylabel('accuracy', fontsize=fs)\n",
    "\n",
    "ax4 = plt.subplot(3,3, 4)\n",
    "plt.plot(metrics_res['pur'], metrics_res['eff'], color=lcolor, lw=lw)\n",
    "for i in range(len(pos_list)):\n",
    "    ax4.annotate(\"\", xy=(metrics_res.iloc[pos_list[i] + step]['pur'], metrics_res.iloc[pos_list[i] + step]['eff']), \n",
    "                 xytext=(metrics_res.iloc[pos_list[i]]['pur'], metrics_res.iloc[pos_list[i]]['eff']),\n",
    "                 arrowprops={'headlength': aw, 'headwidth':aw,  'width':aw,  'color':color_map[int(100*cont[i] +1)], 'lw':lw})\n",
    "plt.xticks([])\n",
    "plt.yticks(fontsize=ls)\n",
    "plt.ylabel('efficiency', fontsize=fs)\n",
    "\n",
    "ax5 = plt.subplot(3,3, 5)\n",
    "plt.plot(metrics_res['acc'], metrics_res['eff'], color=lcolor, lw=lw)\n",
    "for i in range(len(pos_list)):\n",
    "    ax5.annotate(\"\", xy=(metrics_res.iloc[pos_list[i] + step]['acc'], metrics_res.iloc[pos_list[i] + step]['eff']), \n",
    "                 xytext=(metrics_res.iloc[pos_list[i]]['acc'], metrics_res.iloc[pos_list[i]]['eff']),\n",
    "                 arrowprops={'headlength': aw, 'headwidth':aw,  'width':aw, 'color':color_map[int(100*cont[i]+1)], 'lw':lw})\n",
    "plt.xticks([])\n",
    "plt.yticks([])\n",
    "\n",
    "ax7 = plt.subplot(3,3, 7)\n",
    "plt.plot(metrics_res['pur'], metrics_res['fom'], color=lcolor, lw=lw)\n",
    "for i in range(len(pos_list)):\n",
    "    ax7.annotate(\"\", xy=(metrics_res.iloc[pos_list[i] + step]['pur'], metrics_res.iloc[pos_list[i] + step]['fom']), \n",
    "                 xytext=(metrics_res.iloc[pos_list[i]]['pur'], metrics_res.iloc[pos_list[i]]['fom']),\n",
    "                 arrowprops={'headlength': aw, 'headwidth':aw,  'width':aw,  'color':color_map[int(100*cont[i]+1)], 'lw':lw})\n",
    "plt.ylabel('FOM3', fontsize=fs)\n",
    "plt.xlabel('purity', fontsize=fs)\n",
    "plt.yticks(fontsize=ls)\n",
    "plt.xticks(fontsize=ls)\n",
    "\n",
    "\n",
    "ax5 = plt.subplot(3,3, 8)\n",
    "plt.plot(metrics_res['acc'], metrics_res['fom'], color=lcolor, lw=lw)\n",
    "for i in range(len(pos_list)):\n",
    "    ax5.annotate(\"\", xy=(metrics_res.iloc[pos_list[i] + step]['acc'], metrics_res.iloc[pos_list[i] + step]['fom']), \n",
    "                 xytext=(metrics_res.iloc[pos_list[i]]['acc'], metrics_res.iloc[pos_list[i]]['fom']),\n",
    "                 arrowprops={'headlength': aw, 'headwidth':aw,  'width':aw,  'color':color_map[int(100*cont[i]+1)], 'lw':lw})\n",
    "plt.xlabel('accuracy', fontsize=fs)\n",
    "plt.yticks([])\n",
    "plt.xticks([0.325, 0.375, 0.425])\n",
    "plt.xticks(fontsize=ls)\n",
    "\n",
    "ax6 = plt.subplot(3,3, 9)\n",
    "plt.plot(metrics_res['eff'], metrics_res['fom'], color=lcolor, lw=lw)\n",
    "\n",
    "for i in range(len(pos_list)):\n",
    "    ax6.annotate(\"\", xy=(metrics_res.iloc[pos_list[i]+step]['eff'], metrics_res.iloc[pos_list[i]+step]['fom']), \n",
    "                 xytext=(metrics_res.iloc[pos_list[i]]['eff'], metrics_res.iloc[pos_list[i]]['fom']),\n",
    "                 arrowprops={'headlength': aw, 'headwidth':aw,  'width':aw, 'color':color_map[int(100*cont[i]+1)], 'lw':lw})\n",
    "plt.xlabel('efficiency', fontsize=fs)\n",
    "plt.yticks([])\n",
    "plt.xticks([0.26, 0.28,0.30, 0.32, 0.34])\n",
    "plt.xticks([0.275, 0.300, 0.325], fontsize=ls)\n",
    "\n",
    "plt.tight_layout()\n",
    "plt.subplots_adjust(hspace=0, wspace=0)\n",
    "plt.savefig('simple_metrics.pdf')\n",
    "#plt.show()"
   ]
  },
  {
   "cell_type": "code",
   "execution_count": null,
   "metadata": {},
   "outputs": [],
   "source": []
  },
  {
   "cell_type": "code",
   "execution_count": null,
   "metadata": {},
   "outputs": [],
   "source": []
  }
 ],
 "metadata": {
  "kernelspec": {
   "display_name": "Python 3 (ipykernel)",
   "language": "python",
   "name": "python3"
  },
  "language_info": {
   "codemirror_mode": {
    "name": "ipython",
    "version": 3
   },
   "file_extension": ".py",
   "mimetype": "text/x-python",
   "name": "python",
   "nbconvert_exporter": "python",
   "pygments_lexer": "ipython3",
   "version": "3.10.10"
  }
 },
 "nbformat": 4,
 "nbformat_minor": 4
}
