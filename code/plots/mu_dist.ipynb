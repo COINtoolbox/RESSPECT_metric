{
 "cells": [
  {
   "cell_type": "code",
   "execution_count": null,
   "metadata": {},
   "outputs": [],
   "source": [
    "import pandas as pd\n",
    "import numpy as np\n",
    "import matplotlib.pylab as plt\n",
    "import os\n",
    "import glob"
   ]
  },
  {
   "cell_type": "code",
   "execution_count": null,
   "metadata": {},
   "outputs": [],
   "source": [
    "field = 'WFD'\n",
    "v = '7'\n",
    "dirname = '/media/RESSPECT/data/PLAsTiCC/for_metrics/final_data3/' + field + '/results/v'+v+'/3000/fitres/'\n",
    "flist = glob.glob(dirname + 'test_*_99SNIa*.fitres')"
   ]
  },
  {
   "cell_type": "code",
   "execution_count": null,
   "metadata": {},
   "outputs": [],
   "source": [
    "data_temp = pd.read_csv(flist[0], delim_whitespace=True, comment='#')\n",
    "\n",
    "x = data_temp['SIM_ZCMB']\n",
    "y = data_temp['MU']\n",
    "yerr = data_temp['MUERR']\n",
    "flag = np.logical_or(data_temp['SIM_TYPE_INDEX'].values == 11,\n",
    "                      data_temp['SIM_TYPE_INDEX'].values == 1)\n",
    "\n",
    "\n",
    "plt.figure(figsize=(8, len(flist)*5))\n",
    "\n",
    "for indx in range(len(flist)):\n",
    "\n",
    "    title = flist[indx][flist[indx].rfind('_') + 1:flist[indx].rfind('.')]\n",
    "    if 'x' in flist[indx][flist[indx].rfind('/'):]:\n",
    "        label1 = title[:title.find('a')+1]\n",
    "        label2 = title[title.find('a')+1:]\n",
    "    elif 'g' in  flist[indx][flist[indx].rfind('/'):]:\n",
    "        label1 = title[:title.find('a')+1]\n",
    "        label2 = title[title.find('a')+1:]\n",
    "    else:\n",
    "        label1 = title[:title.rfind('a')+1]\n",
    "        label2 = title[title.rfind('a')+1:]\n",
    "    plt.subplot(len(flist), 1, indx + 1)\n",
    "    plt.hist(y[flag], label=label1, density=True, alpha=0.5)\n",
    "    plt.hist(y[~flag], label=label2, density=True, alpha=0.5)\n",
    "    plt.xlabel('MU', fontsize=14)\n",
    "    plt.ylabel('PDF', fontsize=14)\n",
    "    legend = plt.legend(title=field, fontsize=14)\n",
    "    plt.setp(legend.get_title(),fontsize=14)\n",
    "    \n",
    "plt.tight_layout()\n",
    "plt.savefig(title + '_' + field + '_mu_dist.png')\n"
   ]
  },
  {
   "cell_type": "code",
   "execution_count": null,
   "metadata": {},
   "outputs": [],
   "source": []
  },
  {
   "cell_type": "code",
   "execution_count": null,
   "metadata": {},
   "outputs": [],
   "source": []
  }
 ],
 "metadata": {
  "kernelspec": {
   "display_name": "Python 3",
   "language": "python",
   "name": "python3"
  },
  "language_info": {
   "codemirror_mode": {
    "name": "ipython",
    "version": 3
   },
   "file_extension": ".py",
   "mimetype": "text/x-python",
   "name": "python",
   "nbconvert_exporter": "python",
   "pygments_lexer": "ipython3",
   "version": "3.7.1"
  }
 },
 "nbformat": 4,
 "nbformat_minor": 4
}
