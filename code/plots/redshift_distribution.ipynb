{
 "cells": [
  {
   "cell_type": "code",
   "execution_count": null,
   "id": "1ad27bdc-46c6-446b-ad3b-f8e3a05fa954",
   "metadata": {
    "tags": []
   },
   "outputs": [],
   "source": [
    "import numpy as np\n",
    "import matplotlib.pylab as plt\n",
    "import pandas as pd\n",
    "from glob import glob"
   ]
  },
  {
   "cell_type": "code",
   "execution_count": null,
   "id": "0962ed53-f485-4c72-85df-a3d00693ac67",
   "metadata": {
    "tags": []
   },
   "outputs": [],
   "source": [
    "# translate SNANA types\n",
    "types_names = {90:'Ia', 67: '91bg', 52:'Iax', 42:'II', 62:'Ibc', \n",
    "               95: 'SLSN', 15:'TDE', 64:'KN', 88:'AGN', 92:'RRL', 65:'M-dwarf',\n",
    "               16:'EB',53:'Mira', 6:'MicroL', 991:'MicroLB', 992:'ILOT', \n",
    "               993:'CART', 994:'PISN',995:'MLString'}\n",
    "\n",
    "SNANA_types = {90:11, 62:{1:3, 2:13}, 42:{1:2, 2:12, 3:14},\n",
    "               67:41, 52:43, 64:51, 95:60, 994:61, 992:62,\n",
    "               993:63, 15:64, 88:70, 92:80, 65:81, 16:83,\n",
    "               53:84, 991:90, 6:{1:91, 2:93}}\n",
    "\n",
    "SNANA_names = {11: 'Ia', 3:'Ibc', 13: 'Ibc', 2:'II', 12:'II', 14:'II',\n",
    "               41: '91bg', 43:'Iax', 51:'KN', 60:'SLSN', 61:'PISN', 62:'ILOT',\n",
    "               63:'CART', 64:'TDE', 70:'AGN', 80:'RRL', 81:'M-dwarf', 83:'EB',\n",
    "               84:'Mira', 90:'MicroLB', 91:'MicroL', 93:'MicroL'}"
   ]
  },
  {
   "cell_type": "markdown",
   "id": "06a9ecae-f010-4aa8-8561-c57f2a7f8cde",
   "metadata": {},
   "source": [
    "# DDF"
   ]
  },
  {
   "cell_type": "code",
   "execution_count": null,
   "id": "64b3da9a-32d2-405d-9421-3a785ae6239f",
   "metadata": {
    "tags": []
   },
   "outputs": [],
   "source": [
    "# only types used in the paper\n",
    "sntypes_ddf = ['Ia', 'II', 'Ibc', 'Iax']\n",
    "\n",
    "# read zenodo metadata\n",
    "fname = '/media/RESSPECT/data/PLAsTiCC/PLAsTiCC_zenodo/plasticc_test_metadata.csv'\n",
    "test_metadata = pd.read_csv(fname)\n",
    "\n",
    "# separate fields\n",
    "ddf_flag = test_metadata['ddf_bool'].values == 1\n",
    "\n",
    "# separate types\n",
    "raw_z_ddf = {}\n",
    "for snclass in [42, 62, 52, 90]:\n",
    "    flag_type_temp = test_metadata['true_target'].values == snclass \n",
    "    flag_ddf_temp = np.logical_and(flag_type_temp, ddf_flag)\n",
    "    raw_z_ddf[types_names[snclass]] = test_metadata[flag_ddf_temp]['true_z'].values\n",
    "    \n",
    "    \n",
    "raw_z_ddf['all'] = []\n",
    "for key in sntypes_ddf:\n",
    "    raw_z_ddf['all'] = raw_z_ddf['all'] + list(raw_z_ddf[key])"
   ]
  },
  {
   "cell_type": "code",
   "execution_count": null,
   "id": "d1bee123-7ab0-4267-a1c8-35ff00af900d",
   "metadata": {
    "tags": []
   },
   "outputs": [],
   "source": [
    "print('Total number objects in raw data:', test_metadata.shape[0])\n",
    "print('    of which: ', sum(ddf_flag), '   from DDF (', round(100 * sum(ddf_flag)/test_metadata.shape[0], 4),'%)')\n",
    "print('         and: ', sum(~ddf_flag), ' from WFD (', round(100*sum(~ddf_flag)/test_metadata.shape[0], 4),'%)')"
   ]
  },
  {
   "cell_type": "code",
   "execution_count": null,
   "id": "703aed0b-d90a-4a5e-988a-7a0bba651ca4",
   "metadata": {
    "tags": []
   },
   "outputs": [],
   "source": [
    "# read all objects that survived SALT2 used in the paper\n",
    "ddf_fitres_dict = {}\n",
    "all_ddf_z = []\n",
    "for name in sntypes_ddf:\n",
    "    flist_ddf = glob('/media/RESSPECT/data/PLAsTiCC/for_metrics/final_data3/DDF/SALT2_fit/' + \\\n",
    "                          name + '/fitres/master_*.fitres')\n",
    "\n",
    "    ddf_fitres_list = []\n",
    "    for fname in flist_ddf:\n",
    "        try:\n",
    "            fitres_ddf_temp = pd.read_csv(fname, delim_whitespace=True, comment='#')\n",
    "            ddf_fitres_list = ddf_fitres_list + list(fitres_ddf_temp['SIM_ZCMB'].values)\n",
    "        except ValueError:\n",
    "            pass\n",
    "    \n",
    "    if len(ddf_fitres_list) > 0:                  \n",
    "        ddf_fitres_dict[name] = ddf_fitres_list\n",
    "        all_ddf_z = all_ddf_z + ddf_fitres_list\n",
    "        \n",
    "ddf_fitres_dict['all'] = all_ddf_z"
   ]
  },
  {
   "cell_type": "code",
   "execution_count": null,
   "id": "e2ce582c-8af0-4c46-b668-f8b5330793e3",
   "metadata": {
    "tags": []
   },
   "outputs": [],
   "source": [
    "# read all objects that survived SALT2 from classes that did not make it to the paper plots\n",
    "ddf_fitres_dict2 = {}\n",
    "all_ddf_z2 = []\n",
    "\n",
    "sntypes_ddf2 = list(types_names.values())\n",
    "for name in sntypes_ddf:\n",
    "    if name in sntypes_ddf2:\n",
    "        sntypes_ddf2.remove(name)\n",
    "    \n",
    "for name2 in sntypes_ddf2:\n",
    "    flist_ddf2 = glob('/media/RESSPECT/data/PLAsTiCC/for_metrics/final_data3/DDF/SALT2_fit/' + \\\n",
    "                          name2 + '/fitres/master_*.fitres')\n",
    "\n",
    "    ddf_fitres_list2 = []\n",
    "    for fname in flist_ddf2:\n",
    "        try:\n",
    "            fitres_ddf_temp2 = pd.read_csv(fname, delim_whitespace=True, comment='#')\n",
    "            ddf_fitres_list2 = ddf_fitres_list2 + list(fitres_ddf_temp2['SIM_ZCMB'].values)\n",
    "        except ValueError:\n",
    "            pass\n",
    "    \n",
    "    if len(ddf_fitres_list2) > 0:                  \n",
    "        ddf_fitres_dict2[name2] = ddf_fitres_list2\n",
    "        all_ddf_z2 = all_ddf_z2 + ddf_fitres_list2\n",
    "        \n",
    "ddf_fitres_dict2['all'] = all_ddf_z2"
   ]
  },
  {
   "cell_type": "markdown",
   "id": "4e4ef573-ce92-4a0f-8a9d-63a041e44d41",
   "metadata": {},
   "source": [
    "# WFD"
   ]
  },
  {
   "cell_type": "code",
   "execution_count": null,
   "id": "61d9a003-4bb0-4587-859d-bee440d0b8d5",
   "metadata": {
    "tags": []
   },
   "outputs": [],
   "source": [
    "# only types used in the paper\n",
    "sntypes_wfd = ['Ia', 'II', 'Ibc', 'Iax', 'CART', 'SLSN']\n",
    "\n",
    "# separate types\n",
    "raw_z_wfd = {}\n",
    "for snclass in [90, 42, 62, 52, 993, 95]:\n",
    "    flag_type_temp = test_metadata['true_target'].values == snclass \n",
    "    flag_wfd_temp = np.logical_and(flag_type_temp, ~ddf_flag)\n",
    "    raw_z_wfd[types_names[snclass]] = test_metadata[flag_wfd_temp]['true_z'].values\n",
    "    \n",
    "    \n",
    "raw_z_wfd['all'] = []\n",
    "for key in sntypes_wfd:\n",
    "    raw_z_wfd['all'] = raw_z_wfd['all'] + list(raw_z_wfd[key])"
   ]
  },
  {
   "cell_type": "code",
   "execution_count": null,
   "id": "b53a51a5-deec-4dc9-980c-e4558aa26869",
   "metadata": {
    "tags": []
   },
   "outputs": [],
   "source": [
    "# read all objects that survived SALT2\n",
    "wfd_fitres_dict = {}\n",
    "all_wfd_z = []\n",
    "for name in sntypes_wfd:\n",
    "    flist_wfd = glob('/media/RESSPECT/data/PLAsTiCC/for_metrics/final_data3/WFD/SALT2_fit/' + \\\n",
    "                          name + '/fitres/master_*.fitres')\n",
    "\n",
    "    wfd_fitres_list = []\n",
    "    for fname in flist_wfd:\n",
    "        try:\n",
    "            fitres_wfd_temp = pd.read_csv(fname, delim_whitespace=True, comment='#')\n",
    "            wfd_fitres_list = wfd_fitres_list + list(fitres_wfd_temp['SIM_ZCMB'].values)\n",
    "        except ValueError:\n",
    "            pass\n",
    "    \n",
    "    if len(wfd_fitres_list) > 0:     \n",
    "        print(name, len(list(wfd_fitres_list)))\n",
    "        wfd_fitres_dict[name] = wfd_fitres_list\n",
    "        all_wfd_z = all_wfd_z + wfd_fitres_list\n",
    "        \n",
    "wfd_fitres_dict['all'] = all_wfd_z"
   ]
  },
  {
   "cell_type": "code",
   "execution_count": null,
   "id": "e1f6f502-3d47-407e-9dd5-e765ce9f5558",
   "metadata": {
    "tags": []
   },
   "outputs": [],
   "source": [
    "# read all objects that survived SALT2 from classes that did not make it to the paper plots\n",
    "wfd_fitres_dict2 = {}\n",
    "all_wfd_z2 = []\n",
    "\n",
    "sntypes_wfd2 = list(types_names.values())\n",
    "for name in sntypes_wfd:\n",
    "    if name in sntypes_wfd2:\n",
    "        sntypes_wfd2.remove(name)\n",
    "    \n",
    "for name2 in sntypes_wfd2:\n",
    "    flist_wfd2 = glob('/media/RESSPECT/data/PLAsTiCC/for_metrics/final_data3/WFD/SALT2_fit/' + \\\n",
    "                          name2 + '/fitres/master_*.fitres')\n",
    "\n",
    "    wfd_fitres_list2 = []\n",
    "    for fname2 in flist_wfd2:\n",
    "        try:\n",
    "            fitres_wfd_temp2 = pd.read_csv(fname2, delim_whitespace=True, comment='#')\n",
    "            wfd_fitres_list2 = wfd_fitres_list2 + list(fitres_wfd_temp2['SIM_ZCMB'].values)\n",
    "        except ValueError:\n",
    "            pass\n",
    "    \n",
    "    if len(wfd_fitres_list2) > 0:    \n",
    "        wfd_fitres_dict2[name2] = wfd_fitres_list2\n",
    "        all_wfd_z2 = all_wfd_z2 + wfd_fitres_list2\n",
    "        \n",
    "wfd_fitres_dict2['all'] = all_wfd_z2"
   ]
  },
  {
   "cell_type": "code",
   "execution_count": null,
   "id": "e88014da-1ce2-41cf-b1d3-71126aa51799",
   "metadata": {
    "tags": []
   },
   "outputs": [],
   "source": [
    "n_salt2fit = sum([len(wfd_fitres_dict['all']), len(ddf_fitres_dict['all']),\n",
    "                  len(wfd_fitres_dict2['all']), len(ddf_fitres_dict2['all'])])\n",
    "n_salt2fit_ddf = len(ddf_fitres_dict['all'])+  len(ddf_fitres_dict2['all'])\n",
    "n_salt2fit_wfd = len(wfd_fitres_dict['all'])+ len(wfd_fitres_dict2['all'])\n",
    "\n",
    "print('After SALT2 fit: ', n_salt2fit, ' (', round(100*n_salt2fit/test_metadata.shape[0], 4), '%)')\n",
    "print('    of which: ',  n_salt2fit_ddf, ' (', round(100*n_salt2fit_ddf/n_salt2fit,4),'% of SALT2fit pop from DDF)')\n",
    "print('         and: ', n_salt2fit_wfd, ' (', round(100*n_salt2fit_wfd/n_salt2fit,4),'% of SALT2fit pop from WFD)')"
   ]
  },
  {
   "cell_type": "code",
   "execution_count": null,
   "id": "99bb7ece-f2bb-434a-82d0-5bd193691a4b",
   "metadata": {
    "tags": []
   },
   "outputs": [],
   "source": [
    "sntypes_ddf = ['all'] + sntypes_ddf\n",
    "sntypes_wfd = ['all'] + sntypes_wfd"
   ]
  },
  {
   "cell_type": "code",
   "execution_count": null,
   "id": "3b728c3b-9977-47ea-99b0-eae6e7c8671b",
   "metadata": {
    "tags": []
   },
   "outputs": [],
   "source": [
    "norm = True\n",
    "\n",
    "plt.figure(figsize=(16,30))\n",
    "\n",
    "plt_indx = [1,3,5,7,9]\n",
    "\n",
    "for i in range(1,15):\n",
    "    if i in [1,3,5,7,9]:\n",
    "        plt.subplot(7,2,i)\n",
    "        plt.hist(raw_z_ddf[sntypes_ddf[i // 2]], label='original PLAsTiCC', bins=50, density=norm, alpha=0.5)\n",
    "        plt.hist(ddf_fitres_dict[sntypes_ddf[i // 2]], label='after SALT2 fit', bins=50, density=norm, alpha=0.5)\n",
    "        plt.xlabel('true_z', fontsize=14)\n",
    "        plt.ylabel('N', fontsize=14)\n",
    "        leg1 = plt.legend(title='DDF - ' + sntypes_ddf[i // 2], fontsize=12)\n",
    "        leg1.get_title().set_fontsize('12')\n",
    "        plt.xlim(0,2)\n",
    "\n",
    "    elif i not in [11,13]:\n",
    "        plt.subplot(7,2,i)\n",
    "        plt.hist(raw_z_wfd[sntypes_wfd[i // 2 - 1]], label='original PLAsTiCC', bins=50, density=norm, alpha=0.5)\n",
    "        plt.hist(wfd_fitres_dict[sntypes_wfd[i // 2 - 1]], label='after SALT2 fit', bins=50, density=norm, alpha=0.5)\n",
    "        plt.xlabel('true_z', fontsize=14)\n",
    "        plt.ylabel('N', fontsize=14)\n",
    "        leg1 = plt.legend(title='WFD - ' + sntypes_wfd[i // 2 - 1], fontsize=12)\n",
    "        leg1.get_title().set_fontsize('12')\n",
    "        plt.xlim(0,2)\n",
    "\n",
    "if norm:\n",
    "    plt.savefig('redshit_normalized.png')\n",
    "else:\n",
    "    plt.savefig('redshit_not_normalized.png')"
   ]
  },
  {
   "cell_type": "code",
   "execution_count": null,
   "id": "a2f6b5f9-8ffd-4b6e-b636-8f783fe96641",
   "metadata": {},
   "outputs": [],
   "source": []
  }
 ],
 "metadata": {
  "kernelspec": {
   "display_name": "Python 3 (ipykernel)",
   "language": "python",
   "name": "python3"
  },
  "language_info": {
   "codemirror_mode": {
    "name": "ipython",
    "version": 3
   },
   "file_extension": ".py",
   "mimetype": "text/x-python",
   "name": "python",
   "nbconvert_exporter": "python",
   "pygments_lexer": "ipython3",
   "version": "3.10.10"
  }
 },
 "nbformat": 4,
 "nbformat_minor": 5
}
